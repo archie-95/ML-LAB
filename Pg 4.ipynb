{
 "cells": [
  {
   "cell_type": "code",
   "execution_count": 4,
   "metadata": {},
   "outputs": [
    {
     "name": "stdout",
     "output_type": "stream",
     "text": [
      "Input: \n",
      "[[0.66666667 1.        ]\n",
      " [0.33333333 0.55555556]\n",
      " [1.         0.66666667]]\n",
      "Actual Output: \n",
      "[[0.92]\n",
      " [0.86]\n",
      " [0.89]]\n",
      "Predicted Output: \n",
      " [[0.8966675 ]\n",
      " [0.87804752]\n",
      " [0.89496663]]\n"
     ]
    }
   ],
   "source": [
    "import numpy as np\n",
    "\n",
    "x = np.array(([2,9],[1,5],[3,6]), dtype = float)\n",
    "y = np.array(([92],[86],[89]), dtype = float)\n",
    "#normalization\n",
    "x = x/np.amax(x,axis=0)\n",
    "y = y/100\n",
    "\n",
    "def sigmoid(x):\n",
    "    return(1/(1+np.exp(-x)))\n",
    "    \n",
    "def derivative_sigmoid(x):\n",
    "    return (x * (1-x))\n",
    "\n",
    "epoch = 7000\n",
    "lr = 0.1\n",
    "input_neurons = 2\n",
    "hidden_neurons = 3\n",
    "output_neurons = 1\n",
    "weight_hidden = np.random.uniform(size=(input_neurons, hidden_neurons))\n",
    "bias_hidden = np.random.uniform(size=(1, hidden_neurons))\n",
    "weight_output = np.random.uniform(size=(hidden_neurons, output_neurons))\n",
    "bias_output = np.random.uniform(size=(1, output_neurons))\n",
    "\n",
    "for i in range(epoch):\n",
    "    hidden_input = np.dot(x, weight_hidden) + bias_hidden\n",
    "    hidden_activation = sigmoid(hidden_input)\n",
    "    output_input = np.dot(hidden_activation, weight_output) + bias_output\n",
    "    output = sigmoid(output_input)\n",
    "    \n",
    "    Error_output = y - output\n",
    "    output_gradient = derivative_sigmoid(output)\n",
    "    derivative_output = Error_output * output_gradient\n",
    "    \n",
    "    Error_hidden = derivative_output.dot(weight_output.T)\n",
    "    hidden_gradient = derivative_sigmoid(hidden_activation)\n",
    "    derivative_hidden = Error_hidden * hidden_gradient\n",
    "    \n",
    "    weight_output = weight_output + lr * hidden_activation.T.dot(derivative_output)\n",
    "    weight_hidden = weight_hidden + lr * x.T.dot(derivative_hidden)\n",
    "    \n",
    "print(\"Input: \\n\" + str(x))\n",
    "print(\"Actual Output: \\n\" + str(y))\n",
    "print(\"Predicted Output: \\n\", output)"
   ]
  },
  {
   "cell_type": "code",
   "execution_count": 5,
   "metadata": {},
   "outputs": [
    {
     "data": {
      "text/plain": [
       "array([[0.66666667, 1.        ],\n",
       "       [0.33333333, 0.55555556],\n",
       "       [1.        , 0.66666667]])"
      ]
     },
     "execution_count": 5,
     "metadata": {},
     "output_type": "execute_result"
    }
   ],
   "source": [
    "x"
   ]
  },
  {
   "cell_type": "code",
   "execution_count": null,
   "metadata": {},
   "outputs": [],
   "source": []
  }
 ],
 "metadata": {
  "kernelspec": {
   "display_name": "Python 3",
   "language": "python",
   "name": "python3"
  },
  "language_info": {
   "codemirror_mode": {
    "name": "ipython",
    "version": 3
   },
   "file_extension": ".py",
   "mimetype": "text/x-python",
   "name": "python",
   "nbconvert_exporter": "python",
   "pygments_lexer": "ipython3",
   "version": "3.7.1"
  }
 },
 "nbformat": 4,
 "nbformat_minor": 2
}
