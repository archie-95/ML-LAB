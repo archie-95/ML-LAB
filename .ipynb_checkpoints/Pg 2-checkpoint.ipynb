{
 "cells": [
  {
   "cell_type": "code",
   "execution_count": 34,
   "metadata": {},
   "outputs": [
    {
     "name": "stdout",
     "output_type": "stream",
     "text": [
      "?\n"
     ]
    }
   ],
   "source": [
    "import pandas as pd\n",
    "data=pd.DataFrame()\n",
    "data=pd.read_csv('tennis.csv')\n",
    "data.head(5)\n",
    "gh=[['?']*6]*6\n",
    "h=['0']*6\n",
    "row,col=df.shape\n",
    "print (gh[1][1])\n",
    "\n",
    "\n",
    "        \n",
    "        "
   ]
  },
  {
   "cell_type": "code",
   "execution_count": 36,
   "metadata": {},
   "outputs": [
    {
     "name": "stdout",
     "output_type": "stream",
     "text": [
      "sunny\n",
      "warm\n"
     ]
    }
   ],
   "source": [
    "for i in range(row):\n",
    "    if(data.iloc[i,-1]=='yes'):\n",
    "        for j in range(col-1):\n",
    "            if h[j]=='0' and data.iloc[i,j]!=h[j]:\n",
    "                h[j]=data.iloc[i,j]\n",
    "            elif h[j]!='0' and data.iloc[i,j]!=h[j]:\n",
    "                h[j]='?'\n",
    "    elif(data.iloc[i,-1]=='no'):\n",
    "        for j in range(col-1):\n",
    "            if h[j]!=data.iloc[i,j] and h[j]!='?':\n",
    "                gh[j][j]=h[j]\n",
    "                print(gh[j][j])\n"
   ]
  },
  {
   "cell_type": "code",
   "execution_count": null,
   "metadata": {},
   "outputs": [],
   "source": [
    "!conda install -c ankurankan pgmpy"
   ]
  },
  {
   "cell_type": "code",
   "execution_count": null,
   "metadata": {},
   "outputs": [],
   "source": []
  }
 ],
 "metadata": {
  "kernelspec": {
   "display_name": "Python 3",
   "language": "python",
   "name": "python3"
  },
  "language_info": {
   "codemirror_mode": {
    "name": "ipython",
    "version": 3
   },
   "file_extension": ".py",
   "mimetype": "text/x-python",
   "name": "python",
   "nbconvert_exporter": "python",
   "pygments_lexer": "ipython3",
   "version": "3.7.1"
  }
 },
 "nbformat": 4,
 "nbformat_minor": 2
}
