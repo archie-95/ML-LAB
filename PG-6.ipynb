{
 "cells": [
  {
   "cell_type": "code",
   "execution_count": 1,
   "metadata": {},
   "outputs": [
    {
     "name": "stdout",
     "output_type": "stream",
     "text": [
      "From: sd345@city.ac.uk (Michael Collier)\n",
      "Subject: Converting images to HP LaserJet III?\n",
      "Nntp-Posting-Host: hampton\n",
      "Organization: The City University\n",
      "Lines: 14\n",
      "\n",
      "Does anyone know of a good way (standard PC application/PD utility) to\n",
      "convert tif/img/tga files into LaserJet III format.  We would also like to\n",
      "do the same, converting to HPGL (HP plotter) files.\n",
      "\n",
      "Please email any response.\n",
      "\n",
      "Is this the correct group?\n",
      "\n",
      "Thanks in advance.  Michael.\n",
      "-- \n",
      "Michael Collier (Programmer)                 The Computer Unit,\n",
      "Email: M.P.Collier@uk.ac.city                The City University,\n",
      "Tel: 071 477-8000 x3769                      London,\n",
      "Fax: 071 477-8565                            EC1V 0HB.\n",
      "\n",
      "tt 1\n",
      "Accuracy: 0.8348868175765646\n",
      "                        precision    recall  f1-score   support\n",
      "\n",
      "           alt.atheism       0.97      0.60      0.74       319\n",
      "         comp.graphics       0.96      0.89      0.92       389\n",
      "               sci.med       0.97      0.81      0.88       396\n",
      "soc.religion.christian       0.65      0.99      0.78       398\n",
      "\n",
      "             micro avg       0.83      0.83      0.83      1502\n",
      "             macro avg       0.89      0.82      0.83      1502\n",
      "          weighted avg       0.88      0.83      0.84      1502\n",
      "\n",
      "confusion matrix is \n",
      " [[192   2   6 119]\n",
      " [  2 347   4  36]\n",
      " [  2  11 322  61]\n",
      " [  2   2   1 393]]\n"
     ]
    }
   ],
   "source": [
    "from sklearn.datasets import fetch_20newsgroups\n",
    "\n",
    "#print(fetch_20newsgroups(subset='train').target_names)\n",
    "categories = ['alt.atheism','soc.religion.christian','comp.graphics', 'sci.med']\n",
    "training_data =fetch_20newsgroups(subset='train',categories=categories,shuffle=True)\n",
    "testing_data = fetch_20newsgroups(subset='test',categories=categories,shuffle=True)\n",
    "\n",
    "\"\"\" printing one email thread \"\"\"\n",
    "print(training_data.data[0])\n",
    "print(\"tt\",training_data.target[0])\n",
    "\n",
    "from sklearn.feature_extraction.text import CountVectorizer,TfidfTransformer\n",
    "countVectorizer = CountVectorizer()\n",
    "training_tf = countVectorizer.fit_transform(training_data.data)\n",
    "\n",
    "tfidf_transformer = TfidfTransformer()\n",
    "training_tfidf = tfidf_transformer.fit_transform(training_tf)\n",
    "\n",
    "from sklearn.naive_bayes import MultinomialNB\n",
    "from sklearn.metrics import accuracy_score, classification_report, confusion_matrix\n",
    "from sklearn import metrics\n",
    "#----------------------------------------------------\n",
    "multinomial_nb = MultinomialNB()\n",
    "multinomial_nb.fit(training_tfidf, training_data.target)\n",
    "\n",
    "testing_tf = countVectorizer.transform(testing_data.data)\n",
    "testing_tfidf = tfidf_transformer.transform(testing_tf)\n",
    "predicted = multinomial_nb.predict(testing_tfidf)\n",
    "\n",
    "print(\"Accuracy:\", accuracy_score(testing_data.target, predicted))\n",
    "print(classification_report(testing_data.target,predicted, target_names=testing_data.target_names))\n",
    "\n",
    "print(\"confusion matrix is \\n\",metrics.confusion_matrix(testing_data.target, predicted))"
   ]
  },
  {
   "cell_type": "code",
   "execution_count": null,
   "metadata": {},
   "outputs": [],
   "source": []
  }
 ],
 "metadata": {
  "kernelspec": {
   "display_name": "Python 3",
   "language": "python",
   "name": "python3"
  },
  "language_info": {
   "codemirror_mode": {
    "name": "ipython",
    "version": 3
   },
   "file_extension": ".py",
   "mimetype": "text/x-python",
   "name": "python",
   "nbconvert_exporter": "python",
   "pygments_lexer": "ipython3",
   "version": "3.7.1"
  }
 },
 "nbformat": 4,
 "nbformat_minor": 2
}
