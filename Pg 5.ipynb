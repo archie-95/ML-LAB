{
 "cells": [
  {
   "cell_type": "code",
   "execution_count": 2,
   "metadata": {},
   "outputs": [
    {
     "name": "stdout",
     "output_type": "stream",
     "text": [
      "\n",
      " dataset\n",
      "   gender  height  weight  footsize\n",
      "0    male    6.00     180        12\n",
      "1    male    5.92     190        11\n",
      "2    male    5.58     170        12\n",
      "3    male    5.92     165        10\n",
      "4  female    5.00     100         6\n",
      "5  female    5.50     150         8\n",
      "6  female    5.42     130         7\n",
      "7  female    5.75     150         9\n",
      "\n",
      "test Instance\n",
      "   height  weight  footsize\n",
      "0       5     130         6\n",
      "\n",
      "dataset mean\n",
      "        height  weight  footsize\n",
      "gender                          \n",
      "female  5.4175  132.50      7.50\n",
      "male    5.8550  176.25     11.25\n",
      "\n",
      "dataset variance\n",
      "          height      weight  footsize\n",
      "gender                                \n",
      "female  0.097225  558.333333  1.666667\n",
      "male    0.035033  122.916667  0.916667\n",
      "\n",
      " probability male\n",
      "2.3136442953578095e-17\n",
      "\n",
      " probability female\n",
      "0.0006895347131867704\n",
      "\n",
      " target label:Female\n"
     ]
    }
   ],
   "source": [
    "import pandas as pd\n",
    "import numpy as np\n",
    "data=pd.DataFrame()\n",
    "data['gender']=['male','male','male','male','female','female','female','female']\n",
    "data['height']=[6,5.92,5.58,5.92,5,5.5,5.42,5.75]\n",
    "data['weight']=[180,190,170,165,100,150,130,150]\n",
    "data['footsize']=[12,11,12,10,6,8,7,9]\n",
    "print('\\n dataset')\n",
    "print(data)\n",
    "person=pd.DataFrame()\n",
    "person['height']=[5]\n",
    "person['weight']=[130]\n",
    "person['footsize']=[6]\n",
    "print('\\ntest Instance')\n",
    "print(person)\n",
    "n_male=data['gender'][data['gender']=='male'].count()\n",
    "n_female=data['gender'][data['gender']=='female'].count()\n",
    "totalppl=data['gender'].count()\n",
    "p_male=n_male/totalppl\n",
    "p_female=n_female/totalppl\n",
    "data_means=data.groupby('gender').mean()\n",
    "print('\\ndataset mean')\n",
    "print(data_means)\n",
    "data_variance=data.groupby('gender').var()\n",
    "print('\\ndataset variance')\n",
    "print(data_variance)\n",
    "male_height_mean=data_means['height'][data_variance.index=='male'].values[0]\n",
    "male_weight_mean=data_means['weight'][data_variance.index=='male'].values[0]\n",
    "male_footsize_mean=data_means['footsize'][data_variance.index=='male'].values[0]\n",
    "male_height_variance=data_variance['height'][data_variance.index=='male'].values[0]\n",
    "male_weight_variance=data_variance['weight'][data_variance.index=='male'].values[0]\n",
    "male_footsize_variance=data_variance['footsize'][data_variance.index=='male'].values[0]\n",
    "female_height_mean=data_means['height'][data_variance.index=='female'].values[0]\n",
    "female_weight_mean=data_means['weight'][data_variance.index=='female'].values[0]\n",
    "female_footsize_mean=data_means['footsize'][data_variance.index=='female'].values[0]\n",
    "female_height_variance=data_variance['height'][data_variance.index=='female'].values[0]\n",
    "female_weight_variance=data_variance['weight'][data_variance.index=='female'].values[0]\n",
    "female_footsize_variance=data_variance['footsize'][data_variance.index=='female'].values[0]\n",
    "def p_x_given_y(x,mean_y,variance_y):\n",
    "    p=1/(np.sqrt(2*np.pi*variance_y))*np.exp((-(x-mean_y)**2)/(2*variance_y))\n",
    "    return p\n",
    "print('\\n probability male')\n",
    "prob_male=p_male*p_x_given_y(person['height'][0],male_height_mean,male_height_variance)*p_x_given_y(person['weight'][0],male_weight_mean,male_weight_variance)*p_x_given_y(person['footsize'][0],male_footsize_mean,male_footsize_variance)\n",
    "print(prob_male)\n",
    "print('\\n probability female')\n",
    "prob_female=p_female*p_x_given_y(person['height'][0],female_height_mean,female_height_variance)*p_x_given_y(person['weight'][0],female_weight_mean,female_weight_variance)*p_x_given_y(person['footsize'][0],female_footsize_mean,female_footsize_variance)\n",
    "print(prob_female)\n",
    "if(prob_male>prob_female):\n",
    "    print(\"\\n target label:Male\")\n",
    "else:\n",
    "    print(\"\\n target label:Female\")"
   ]
  },
  {
   "cell_type": "code",
   "execution_count": 5,
   "metadata": {},
   "outputs": [
    {
     "name": "stdout",
     "output_type": "stream",
     "text": [
      "Test set predictions: \n",
      " ['male' 'female']\n",
      "Accuracy:  1.0\n"
     ]
    }
   ],
   "source": [
    "from sklearn.model_selection import train_test_split\n",
    "X_train, X_test, Y_train, Y_test = train_test_split(data.iloc[:,1:], data['gender'], test_size=0.13)\n",
    "\n",
    "from sklearn.naive_bayes import GaussianNB\n",
    "gnb = GaussianNB()\n",
    "Y_pred = gnb.fit(X_train, Y_train).predict(X_test)\n",
    "print(\"Test set predictions: \\n\", Y_pred)\n",
    "\n",
    "from sklearn.metrics import accuracy_score\n",
    "print(\"Accuracy: \",accuracy_score(Y_test, Y_pred))"
   ]
  },
  {
   "cell_type": "code",
   "execution_count": null,
   "metadata": {},
   "outputs": [],
   "source": []
  }
 ],
 "metadata": {
  "kernelspec": {
   "display_name": "Python 3",
   "language": "python",
   "name": "python3"
  },
  "language_info": {
   "codemirror_mode": {
    "name": "ipython",
    "version": 3
   },
   "file_extension": ".py",
   "mimetype": "text/x-python",
   "name": "python",
   "nbconvert_exporter": "python",
   "pygments_lexer": "ipython3",
   "version": "3.7.1"
  }
 },
 "nbformat": 4,
 "nbformat_minor": 2
}
